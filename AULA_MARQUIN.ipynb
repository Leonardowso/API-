{
  "nbformat": 4,
  "nbformat_minor": 0,
  "metadata": {
    "colab": {
      "provenance": [],
      "authorship_tag": "ABX9TyPD0+X4pOHbSOeAxnp98nXz",
      "include_colab_link": true
    },
    "kernelspec": {
      "name": "python3",
      "display_name": "Python 3"
    },
    "language_info": {
      "name": "python"
    }
  },
  "cells": [
    {
      "cell_type": "markdown",
      "metadata": {
        "id": "view-in-github",
        "colab_type": "text"
      },
      "source": [
        "<a href=\"https://colab.research.google.com/github/Leonardowso/API-/blob/main/AULA_MARQUIN.ipynb\" target=\"_parent\"><img src=\"https://colab.research.google.com/assets/colab-badge.svg\" alt=\"Open In Colab\"/></a>"
      ]
    },
    {
      "cell_type": "markdown",
      "source": [],
      "metadata": {
        "id": "L70yr00paz5e"
      }
    },
    {
      "cell_type": "code",
      "source": [],
      "metadata": {
        "id": "dJNGcGima0Cf"
      },
      "execution_count": null,
      "outputs": []
    },
    {
      "cell_type": "code",
      "source": [],
      "metadata": {
        "id": "5TcigM_ua0Fh"
      },
      "execution_count": null,
      "outputs": []
    },
    {
      "cell_type": "code",
      "source": [],
      "metadata": {
        "id": "hdm2XWXLa0Ij"
      },
      "execution_count": null,
      "outputs": []
    },
    {
      "cell_type": "code",
      "source": [],
      "metadata": {
        "id": "0iDM9VXRa0Lo"
      },
      "execution_count": null,
      "outputs": []
    },
    {
      "cell_type": "code",
      "source": [],
      "metadata": {
        "id": "D4nAd2lDa0Oo"
      },
      "execution_count": null,
      "outputs": []
    },
    {
      "cell_type": "code",
      "source": [],
      "metadata": {
        "id": "dpIrht2Fa0SO"
      },
      "execution_count": null,
      "outputs": []
    },
    {
      "cell_type": "code",
      "source": [
        "!pip install pulp\n",
        "# BIBLIOTECA PARA RODAR PROBLEMAS DE PROGRAMAÇAO LINEAR"
      ],
      "metadata": {
        "colab": {
          "base_uri": "https://localhost:8080/"
        },
        "id": "UZBdkBjla0U9",
        "outputId": "0640a317-7893-42fd-9859-247ae3422e23"
      },
      "execution_count": 1,
      "outputs": [
        {
          "output_type": "stream",
          "name": "stdout",
          "text": [
            "Collecting pulp\n",
            "  Downloading pulp-3.1.1-py3-none-any.whl.metadata (1.3 kB)\n",
            "Downloading pulp-3.1.1-py3-none-any.whl (16.4 MB)\n",
            "\u001b[2K   \u001b[90m━━━━━━━━━━━━━━━━━━━━━━━━━━━━━━━━━━━━━━━━\u001b[0m \u001b[32m16.4/16.4 MB\u001b[0m \u001b[31m20.0 MB/s\u001b[0m eta \u001b[36m0:00:00\u001b[0m\n",
            "\u001b[?25hInstalling collected packages: pulp\n",
            "Successfully installed pulp-3.1.1\n"
          ]
        }
      ]
    },
    {
      "cell_type": "code",
      "source": [
        "from pulp import *"
      ],
      "metadata": {
        "id": "5_sMDA0nbuXo"
      },
      "execution_count": 2,
      "outputs": []
    },
    {
      "cell_type": "code",
      "source": [
        "transp = LpProblem(\"min_transporte\", LpMinimize)"
      ],
      "metadata": {
        "id": "IOq1K_FAbunH"
      },
      "execution_count": 5,
      "outputs": []
    },
    {
      "cell_type": "code",
      "source": [
        "x11 = LpVariable(\"x11\", lowBound = 0)\n",
        "x12 = LpVariable(\"x12\", lowBound = 0)\n",
        "x13 = LpVariable(\"x13\", lowBound = 0)\n",
        "x21 = LpVariable(\"x21\", lowBound = 0)\n",
        "x22 = LpVariable(\"x22\", lowBound = 0)\n",
        "x23 = LpVariable(\"x23\", lowBound = 0)\n",
        "x31 = LpVariable(\"x31\", lowBound = 0)\n",
        "x32 = LpVariable(\"x32\", lowBound = 0)\n",
        "x33 = LpVariable(\"x33\", lowBound = 0)"
      ],
      "metadata": {
        "id": "nF4TdH9kbuqf"
      },
      "execution_count": 6,
      "outputs": []
    },
    {
      "cell_type": "code",
      "source": [
        "transp += 30*x11+35*x12+35*x13+20*x21+30*x22+30*x23+25*x31+32*x32+32*x33"
      ],
      "metadata": {
        "id": "YnM3egLHbut3"
      },
      "execution_count": 7,
      "outputs": []
    },
    {
      "cell_type": "code",
      "source": [
        "transp += x11+x12+x13<=3500\n",
        "transp += x21+x22+x23<=2500\n",
        "transp += x31+x32+x33<=1000"
      ],
      "metadata": {
        "id": "JmFfy53Xbu1H"
      },
      "execution_count": 8,
      "outputs": []
    },
    {
      "cell_type": "code",
      "source": [
        "transp += x11+x21+x31==2500\n",
        "transp += x12+x22+x32==2000\n",
        "transp += x13+x23+x33==1500"
      ],
      "metadata": {
        "id": "CvFabn6-g5MQ"
      },
      "execution_count": 9,
      "outputs": []
    },
    {
      "cell_type": "code",
      "source": [
        "transp\n"
      ],
      "metadata": {
        "colab": {
          "base_uri": "https://localhost:8080/"
        },
        "id": "hLPQhaSNg5av",
        "outputId": "39284a72-fda7-4592-a539-da8e8341c611"
      },
      "execution_count": 10,
      "outputs": [
        {
          "output_type": "execute_result",
          "data": {
            "text/plain": [
              "min_transporte:\n",
              "MINIMIZE\n",
              "30*x11 + 35*x12 + 35*x13 + 20*x21 + 30*x22 + 30*x23 + 25*x31 + 32*x32 + 32*x33 + 0\n",
              "SUBJECT TO\n",
              "_C1: x11 + x12 + x13 <= 3500\n",
              "\n",
              "_C2: x21 + x22 + x23 <= 2500\n",
              "\n",
              "_C3: x31 + x32 + x33 <= 1000\n",
              "\n",
              "_C4: x11 + x21 + x31 = 2500\n",
              "\n",
              "_C5: x12 + x22 + x32 = 2000\n",
              "\n",
              "_C6: x13 + x23 + x33 = 1500\n",
              "\n",
              "VARIABLES\n",
              "x11 Continuous\n",
              "x12 Continuous\n",
              "x13 Continuous\n",
              "x21 Continuous\n",
              "x22 Continuous\n",
              "x23 Continuous\n",
              "x31 Continuous\n",
              "x32 Continuous\n",
              "x33 Continuous"
            ]
          },
          "metadata": {},
          "execution_count": 10
        }
      ]
    },
    {
      "cell_type": "code",
      "source": [
        "transp.solve()"
      ],
      "metadata": {
        "colab": {
          "base_uri": "https://localhost:8080/"
        },
        "id": "HapGWSUPg5jf",
        "outputId": "4f5945fd-f37b-4039-facb-cfd778e43e4f"
      },
      "execution_count": 11,
      "outputs": [
        {
          "output_type": "execute_result",
          "data": {
            "text/plain": [
              "1"
            ]
          },
          "metadata": {},
          "execution_count": 11
        }
      ]
    },
    {
      "cell_type": "code",
      "source": [
        "for v in transp.variables():print(v.name, \"=\", v.varValue)"
      ],
      "metadata": {
        "colab": {
          "base_uri": "https://localhost:8080/"
        },
        "id": "jrrg9D5airF_",
        "outputId": "92987d28-13fb-4a52-a262-c30738aa183b"
      },
      "execution_count": 12,
      "outputs": [
        {
          "output_type": "stream",
          "name": "stdout",
          "text": [
            "x11 = 0.0\n",
            "x12 = 1000.0\n",
            "x13 = 1500.0\n",
            "x21 = 2500.0\n",
            "x22 = 0.0\n",
            "x23 = 0.0\n",
            "x31 = 0.0\n",
            "x32 = 1000.0\n",
            "x33 = 0.0\n"
          ]
        }
      ]
    },
    {
      "cell_type": "code",
      "source": [
        "print('resultado do custo de transporte =', value(transp.objective))"
      ],
      "metadata": {
        "colab": {
          "base_uri": "https://localhost:8080/"
        },
        "id": "1GNf3oOPirRP",
        "outputId": "7ae86e22-cb4d-4268-dd5e-8d6fea449553"
      },
      "execution_count": 13,
      "outputs": [
        {
          "output_type": "stream",
          "name": "stdout",
          "text": [
            "resultado do custo de transporte = 169500.0\n"
          ]
        }
      ]
    },
    {
      "cell_type": "code",
      "source": [
        "print('resultado do custo de transporte =', )"
      ],
      "metadata": {
        "id": "WEv0vqt7irUG"
      },
      "execution_count": null,
      "outputs": []
    },
    {
      "cell_type": "code",
      "source": [],
      "metadata": {
        "id": "W-PVxRAmirXp"
      },
      "execution_count": null,
      "outputs": []
    },
    {
      "cell_type": "code",
      "source": [],
      "metadata": {
        "id": "xjltRMpairav"
      },
      "execution_count": null,
      "outputs": []
    },
    {
      "cell_type": "code",
      "source": [],
      "metadata": {
        "id": "03CehFO_irdo"
      },
      "execution_count": null,
      "outputs": []
    }
  ]
}